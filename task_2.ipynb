{
 "cells": [
  {
   "cell_type": "code",
   "execution_count": 2,
   "id": "819f7ad0-c66f-45bc-b59a-c97d75e942fc",
   "metadata": {},
   "outputs": [
    {
     "name": "stdout",
     "output_type": "stream",
     "text": [
      "0      1.600807\n",
      "1      1.619681\n",
      "2      1.648554\n",
      "3      1.657427\n",
      "4      1.686299\n",
      "         ...   \n",
      "308   -8.418487\n",
      "309   -8.220422\n",
      "310   -8.002599\n",
      "311   -8.002356\n",
      "312   -7.784292\n",
      "Name: Temp_Deviation, Length: 313, dtype: float64\n",
      "Periods of Valve Passing:\n",
      "[('2021-01-04T07:49:08+11:00 Sydney', '2021-01-04T08:09:23+11:00 Sydney'), ('2021-01-04T10:33:48+11:00 Sydney', '2021-01-04T14:47:11+11:00 Sydney'), ('2021-01-04T14:57:11+11:00 Sydney', '2021-01-04T15:07:48+11:00 Sydney'), ('2021-01-04T15:24:23+11:00 Sydney', '2021-01-04T16:28:31+11:00 Sydney'), ('2021-01-04T16:59:24+11:00 Sydney', '2021-01-04T18:22:05+11:00 Sydney'), ('2021-01-04T19:29:59+11:00 Sydney', '2021-01-04T23:49:08+11:00 Sydney')]\n"
     ]
    }
   ],
   "source": [
    "import pandas as pd\n",
    "\n",
    "# Load the dataset into a Pandas DataFrame\n",
    "df = pd.read_csv('hrczPassingData.csv')\n",
    "# print(df)\n",
    "# Calculate deviation from setpoint\n",
    "df['Temp_Deviation'] = df['Chiller 2 CHWST (Chilled Water Supply Temp)'] - df['AHU HR CZ SAT Setpoint (Supply Air Temp Setpoint)']\n",
    "print(df['Temp_Deviation'])\n",
    "# Identify periods of Valve Passing\n",
    "valve_passing_periods = []\n",
    "\n",
    "# Threshold for detecting Valve Passing \n",
    "valve_passing_threshold = 5.0  \n",
    "\n",
    "in_valve_passing = False\n",
    "start_time = None\n",
    "\n",
    "for index, row in df.iterrows():\n",
    "    if row['Temp_Deviation'] < -valve_passing_threshold:  # Condition for Valve Passing\n",
    "        if not in_valve_passing:\n",
    "            start_time = row['Timestamp'] \n",
    "            in_valve_passing = True\n",
    "    else:\n",
    "        if in_valve_passing:\n",
    "            end_time = row['Timestamp']\n",
    "            valve_passing_periods.append((start_time, end_time))\n",
    "            in_valve_passing = False\n",
    "\n",
    "# If Valve Passing period ends at the end of dataset\n",
    "if in_valve_passing:\n",
    "    end_time = df.iloc[-1]['Timestamp']\n",
    "    valve_passing_periods.append((start_time, end_time))\n",
    "\n",
    "# Print periods of Valve Passing\n",
    "print(\"Periods of Valve Passing:\")\n",
    "print(valve_passing_periods)"
   ]
  },
  {
   "cell_type": "code",
   "execution_count": null,
   "id": "9ceefabf-2b67-49fc-a632-18939298c393",
   "metadata": {},
   "outputs": [],
   "source": []
  }
 ],
 "metadata": {
  "kernelspec": {
   "display_name": "Python 3 (ipykernel)",
   "language": "python",
   "name": "python3"
  },
  "language_info": {
   "codemirror_mode": {
    "name": "ipython",
    "version": 3
   },
   "file_extension": ".py",
   "mimetype": "text/x-python",
   "name": "python",
   "nbconvert_exporter": "python",
   "pygments_lexer": "ipython3",
   "version": "3.10.5"
  }
 },
 "nbformat": 4,
 "nbformat_minor": 5
}
